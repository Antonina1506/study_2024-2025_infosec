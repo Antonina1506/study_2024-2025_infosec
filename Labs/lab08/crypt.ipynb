{
 "cells": [
  {
   "cell_type": "code",
   "execution_count": 5,
   "id": "f7aed587-3888-43ff-93f9-46d6833d65e2",
   "metadata": {},
   "outputs": [
    {
     "name": "stdout",
     "output_type": "stream",
     "text": [
      "Открытый текст: С Новым Годом, друзья! \n",
      "Ключ: fR6qkp7o1M1yBg3AKjjj9A \n",
      "Шифротекст: чrЫяљлЋOТѳЅчѾK\u0013ѵЋЩѝЦѶ` \n",
      "Исходный текст: С Новым Годом, друзья!\n",
      "\n",
      "\n",
      "Открытый текст: Я люблю инфор, безопа! \n",
      "Ключ: fR6qkp7o1M1yBg3AKjjj9A \n",
      "Шифротекст: щrЍпњыѹOЉѰѵчЂK\u0013ѰѾѝєѕЉ` \n",
      "Исходный текст: Я люблю инфор, безопа!\n",
      "\n",
      "\n",
      "Расшифровка второго текста при помощи первого:  Я люблю инфор, безопа!\n",
      "Расшифровка первого текста при помощи второго:  С Новым Годом, друзья!\n"
     ]
    }
   ],
   "source": [
    "import random\n",
    "import string\n",
    "\n",
    "def generate_key(text):\n",
    "    key = ''\n",
    "    for i in range(len(text)):\n",
    "        key += random.choice(string.ascii_letters + string.digits)\n",
    "    return key\n",
    "\n",
    "def crypt(text, key):\n",
    "    new_text = ''\n",
    "    for i in range(len(text)):\n",
    "        new_text += chr(ord(text[i]) ^ ord(key[i % len(key)]))\n",
    "    return new_text\n",
    "\n",
    "t1 = 'С Новым Годом, друзья!'\n",
    "key = generate_key(t1)\n",
    "encrypt1 = crypt(t1, key)\n",
    "decrypt1 = crypt(encrypt1, key)\n",
    "\n",
    "t2 = 'Я люблю инфор, безопа!'\n",
    "encrypt2 = crypt(t2, key)\n",
    "decrypt2 = crypt(encrypt2, key)\n",
    "\n",
    "print('Открытый текст:', t1, \"\\nКлюч:\", key, \"\\nШифротекст:\", encrypt1, \"\\nИсходный текст:\", decrypt1)\n",
    "print('\\n')\n",
    "print('Открытый текст:', t2, \"\\nКлюч:\", key, \"\\nШифротекст:\", encrypt2, \"\\nИсходный текст:\", decrypt2)\n",
    "print('\\n')\n",
    "\n",
    "recrypt = crypt(encrypt2, encrypt1)\n",
    "\n",
    "print('Расшифровка второго текста при помощи первого: ', crypt(t1, recrypt))\n",
    "print('Расшифровка первого текста при помощи второго: ', crypt(t2, recrypt))"
   ]
  },
  {
   "cell_type": "code",
   "execution_count": null,
   "id": "5fb7e605-a298-4106-bac3-3b09dbd6132c",
   "metadata": {},
   "outputs": [],
   "source": []
  }
 ],
 "metadata": {
  "kernelspec": {
   "display_name": "Python 3 (ipykernel)",
   "language": "python",
   "name": "python3"
  },
  "language_info": {
   "codemirror_mode": {
    "name": "ipython",
    "version": 3
   },
   "file_extension": ".py",
   "mimetype": "text/x-python",
   "name": "python",
   "nbconvert_exporter": "python",
   "pygments_lexer": "ipython3",
   "version": "3.12.7"
  }
 },
 "nbformat": 4,
 "nbformat_minor": 5
}
