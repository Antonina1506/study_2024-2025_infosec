{
 "cells": [
  {
   "cell_type": "code",
   "execution_count": 38,
   "id": "12d14891-6394-489a-9b29-1c4040329e0e",
   "metadata": {},
   "outputs": [
    {
     "name": "stdout",
     "output_type": "stream",
     "text": [
      "Открытый текст: С Новым Годом, друзья! \n",
      "Ключ: xTfijecGs9D8jHwR6lMOOw \n",
      "Шифротекст: љtѻїјЮџgѠЇѰІіdWѦѶЯѺЃЀV \n",
      "Исходный текст: С Новым Годом, друзья!\n",
      "Возможные ключи: ['xTfijecGs9D8j', 'ѕћJf\\x1c\\x14ћр\\x14N2hј', 'ZѷE\\x10mЬ\\\\Чc8bњѫ', 'vѸ3aѕ+;ѐ\\x15hѐѩZ', 'yЎBљRLLЦEњѣXJ', '\\x0fѿѺ^5;:ѶѷѩRH\\x13', '~G}9BMjDфXB\\x11F', 'цр\\x1aN4\\x1dјwuH\\x1bD?', 'AЧm8dЯѫцe\\x11N=<', '&ѐ\\x1bhіМZі<D7>Ѫ']\n",
      "Расшифрованный фрагмент: С Новым Годом\u001c",
      "\u0003ЀПхПѠч%\n"
     ]
    }
   ],
   "source": [
    "import random\n",
    "import string\n",
    "\n",
    "def generate_key(text):\n",
    "    key = ''\n",
    "    for i in range(len(text)):\n",
    "        key += random.choice(string.ascii_letters + string.digits)\n",
    "    return key\n",
    "\n",
    "def crypt(text, key):\n",
    "    new_text = ''\n",
    "    for i in range(len(text)):\n",
    "        new_text += chr(ord(text[i]) ^ ord(key[i % len(key)]))\n",
    "    return new_text\n",
    "\n",
    "def find_key(text, fragment):\n",
    "    possible_keys = []\n",
    "    for i in range(len(text) - len(fragment) + 1):\n",
    "        possible_key = ''\n",
    "        for j in range(len(fragment)):\n",
    "            possible_key += chr(ord(text[i + j]) ^ ord(fragment[j]))\n",
    "        possible_keys.append(possible_key)\n",
    "    return possible_keys\n",
    "\n",
    "t = 'С Новым Годом, друзья!'\n",
    "key = generate_key(t)\n",
    "encrypt = crypt(t, key)\n",
    "decrypt = crypt(encrypt, key)\n",
    "keys = find_key(encrypt, \"С Новым Годом\")\n",
    "fragment = \"С Новым Годом\"\n",
    "\n",
    "print('Открытый текст:', t, \"\\nКлюч:\", key, \"\\nШифротекст:\", encrypt, \"\\nИсходный текст:\", decrypt)\n",
    "print('Возможные ключи:', keys)\n",
    "print('Расшифрованный фрагмент:', crypt(encrypt, keys[0]))\n",
    "        "
   ]
  },
  {
   "cell_type": "code",
   "execution_count": null,
   "id": "3da668af-bea9-41a1-8f70-8e7577457948",
   "metadata": {},
   "outputs": [],
   "source": []
  },
  {
   "cell_type": "code",
   "execution_count": null,
   "id": "db587d8f-648c-4f47-a253-8b4ae3d804d1",
   "metadata": {},
   "outputs": [],
   "source": []
  },
  {
   "cell_type": "code",
   "execution_count": null,
   "id": "0a084dc9-e5f7-470d-b3f5-4705a453e0e7",
   "metadata": {},
   "outputs": [],
   "source": []
  },
  {
   "cell_type": "code",
   "execution_count": null,
   "id": "c3b315b3-cf3b-4d7a-94b7-7ffbd157f9b0",
   "metadata": {},
   "outputs": [],
   "source": []
  }
 ],
 "metadata": {
  "kernelspec": {
   "display_name": "Python 3 (ipykernel)",
   "language": "python",
   "name": "python3"
  },
  "language_info": {
   "codemirror_mode": {
    "name": "ipython",
    "version": 3
   },
   "file_extension": ".py",
   "mimetype": "text/x-python",
   "name": "python",
   "nbconvert_exporter": "python",
   "pygments_lexer": "ipython3",
   "version": "3.12.7"
  }
 },
 "nbformat": 4,
 "nbformat_minor": 5
}
